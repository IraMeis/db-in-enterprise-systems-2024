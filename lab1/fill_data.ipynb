{
 "cells": [
  {
   "cell_type": "code",
   "execution_count": 1,
   "metadata": {},
   "outputs": [],
   "source": [
    "import faker\n",
    "import random\n",
    "from datetime import datetime\n",
    "import numpy as np"
   ]
  },
  {
   "cell_type": "code",
   "execution_count": 2,
   "metadata": {},
   "outputs": [],
   "source": [
    "fake = faker.Faker()"
   ]
  },
  {
   "cell_type": "code",
   "execution_count": 3,
   "metadata": {},
   "outputs": [],
   "source": [
    "num_users = int(1e+6)\n",
    "num_groups = int(1e+4)\n",
    "num_reservoirs = int(2e+5)\n",
    "num_measurements = int(2e+6)\n",
    "\n",
    "min_users_in_group = 2\n",
    "max_users_in_group = 200"
   ]
  },
  {
   "cell_type": "code",
   "execution_count": 4,
   "metadata": {},
   "outputs": [],
   "source": [
    "import psycopg2\n",
    "from psycopg2 import Error\n",
    "from psycopg2.extensions import ISOLATION_LEVEL_AUTOCOMMIT\n",
    "\n",
    "connection = psycopg2.connect(dbname=\"db-in-es\",\n",
    "                            user=\"db-in-es\",\n",
    "                            password=\"db-in-es\",\n",
    "                            host=\"127.0.0.1\",\n",
    "                            port=\"5432\")\n",
    "connection.set_isolation_level(ISOLATION_LEVEL_AUTOCOMMIT)\n",
    "cur = connection.cursor()"
   ]
  },
  {
   "cell_type": "code",
   "execution_count": null,
   "metadata": {},
   "outputs": [],
   "source": [
    "# user + token\n",
    "\n",
    "sys_user = []\n",
    "token = []\n",
    "\n",
    "arr_token_user_ref = list(range(1, num_users + 1))\n",
    "random.shuffle(arr_token_user_ref)\n",
    "\n",
    "for i in range(num_users):\n",
    "#     if i%10000 == 0: \n",
    "#         print(i)\n",
    "    login = fake.user_name() + str(i)\n",
    "    password = fake.md5()\n",
    "    description = fake.text(256)\n",
    "    first_name = fake.first_name()\n",
    "    second_name = fake.first_name()\n",
    "    last_name = fake.last_name()\n",
    "    phone = fake.phone_number() + str(i)\n",
    "    email = fake.email() + str(i)\n",
    "    is_online= random.choice(['true', 'false'])\n",
    "    \n",
    "    sys_user.append(\n",
    "        {\n",
    "            'login': login,\n",
    "            'password': password,\n",
    "            'description': description,\n",
    "            'first_name': first_name,\n",
    "            'second_name': second_name,\n",
    "            'last_name': last_name,\n",
    "            'phone': phone,\n",
    "            'email': email,\n",
    "            'is_online': is_online,\n",
    "        }\n",
    "    )\n",
    "\n",
    "    content = bytes(fake.text(128), 'utf-8')\n",
    "    sys_user_ref = arr_token_user_ref[i]\n",
    "\n",
    "    token.append(\n",
    "        {\n",
    "            'content': content,\n",
    "            'sys_user_ref': sys_user_ref,\n",
    "        }\n",
    "    )"
   ]
  },
  {
   "cell_type": "code",
   "execution_count": 6,
   "metadata": {},
   "outputs": [],
   "source": [
    "for u in sys_user:\n",
    "    try:\n",
    "        cur.execute('''\n",
    "        INSERT INTO sys_user \n",
    "        (login,password,description,first_name,second_name,last_name,phone,email,is_online) \n",
    "        VALUES (%s, %s, %s, %s, %s, %s, %s, %s, %s)''',\n",
    "        (u['login'],u['password'],u['description'], \n",
    "        u['first_name'],u['second_name'],u['last_name'],\n",
    "        u['phone'],u['email'],u['is_online']))\n",
    "    except (Exception, Error) as error:\n",
    "        print(error)"
   ]
  },
  {
   "cell_type": "code",
   "execution_count": 7,
   "metadata": {},
   "outputs": [],
   "source": [
    "for t in token:\n",
    "    try:\n",
    "        cur.execute('''INSERT INTO token (sys_user_ref,content) VALUES (%s, %s)''',\n",
    "        (t['sys_user_ref'],t['content']))\n",
    "    except (Exception, Error) as error:\n",
    "        print(error)"
   ]
  },
  {
   "cell_type": "code",
   "execution_count": 8,
   "metadata": {},
   "outputs": [],
   "source": [
    "del sys_user\n",
    "del token"
   ]
  },
  {
   "cell_type": "code",
   "execution_count": null,
   "metadata": {},
   "outputs": [],
   "source": [
    "# groups, reservoirs\n",
    "\n",
    "sys_group = []\n",
    "\n",
    "for i in range(num_groups):\n",
    "#     if i%10000 == 0: \n",
    "#         print(i)\n",
    "    description = fake.text(256)\n",
    "    name = fake.company() + str(i)\n",
    "    sys_group.append(\n",
    "        {\n",
    "            'description': description,\n",
    "            'name': name,\n",
    "        }\n",
    "    )\n",
    "\n",
    "reservoir = []\n",
    "\n",
    "for i in range(num_reservoirs):\n",
    "#     if i%10000 == 0: \n",
    "#         print(i)\n",
    "    description = fake.text(256)\n",
    "    name = fake.city() + str(i)\n",
    "    reservoir.append(\n",
    "        {\n",
    "            'description': description,\n",
    "            'name': name,\n",
    "        }\n",
    "    )"
   ]
  },
  {
   "cell_type": "code",
   "execution_count": 11,
   "metadata": {},
   "outputs": [],
   "source": [
    "try:\n",
    "    for g in sys_group:\n",
    "        cur.execute('''INSERT INTO sys_group (description,name) VALUES (%s, %s)''',\n",
    "        (g['description'],g['name']))\n",
    "        \n",
    "except (Exception, Error) as error:\n",
    "    print(error)"
   ]
  },
  {
   "cell_type": "code",
   "execution_count": 12,
   "metadata": {},
   "outputs": [],
   "source": [
    "try:\n",
    "    for r in reservoir:\n",
    "        cur.execute('''INSERT INTO reservoir (description,name) VALUES (%s, %s)''',\n",
    "        (r['description'],r['name']))\n",
    "        \n",
    "except (Exception, Error) as error:\n",
    "    print(error)"
   ]
  },
  {
   "cell_type": "code",
   "execution_count": 13,
   "metadata": {},
   "outputs": [],
   "source": [
    "del sys_group\n",
    "del reservoir"
   ]
  },
  {
   "cell_type": "code",
   "execution_count": null,
   "metadata": {},
   "outputs": [],
   "source": [
    "# link_sys_user_sys_group\n",
    "\n",
    "link_sys_user_sys_group = []\n",
    "user_ids = list(range(1, num_users + 1))\n",
    "\n",
    "for gid in list(range(1, num_groups + 1)):\n",
    "\n",
    "    tmp = np.random.choice(user_ids, random.randint(min_users_in_group, max_users_in_group))\n",
    "    is_primary = random.choice(['true', 'false'])\n",
    "    is_admin = random.choice(['true', 'false'])\n",
    "    \n",
    "    for uid in tmp:\n",
    "        link_sys_user_sys_group.append(\n",
    "        {\n",
    "            'sys_user_ref': int(uid),\n",
    "            'sys_group_ref': int(gid),\n",
    "            'is_primary': is_primary,\n",
    "            'is_admin': is_admin,\n",
    "        }\n",
    "    )\n",
    "\n"
   ]
  },
  {
   "cell_type": "code",
   "execution_count": 20,
   "metadata": {},
   "outputs": [
    {
     "data": {
      "text/plain": [
       "1001014"
      ]
     },
     "execution_count": 20,
     "metadata": {},
     "output_type": "execute_result"
    }
   ],
   "source": [
    "len(link_sys_user_sys_group)"
   ]
  },
  {
   "cell_type": "code",
   "execution_count": 21,
   "metadata": {},
   "outputs": [],
   "source": [
    "try:\n",
    "    for l in link_sys_user_sys_group:\n",
    "        cur.execute('''INSERT INTO link_sys_user_sys_group \n",
    "        (sys_user_ref,sys_group_ref,is_primary,is_admin) \n",
    "        VALUES (%s, %s, %s, %s)''',\n",
    "        (l['sys_user_ref'],l['sys_group_ref'],l['is_primary'],l['is_admin']))\n",
    "        \n",
    "except (Exception, Error) as error:\n",
    "    print(error)"
   ]
  },
  {
   "cell_type": "code",
   "execution_count": null,
   "metadata": {},
   "outputs": [],
   "source": [
    "# measurement\n",
    "\n",
    "measurement = []\n",
    "\n",
    "reservoir_ids = list(range(1, num_reservoirs + 1))\n",
    "\n",
    "for i in range(num_measurements):\n",
    "    lat = fake.latitude()\n",
    "    lon = fake.longitude()\n",
    "    date = datetime.now()\n",
    "    ph = random.uniform(0, 14)\n",
    "    hardness = random.uniform(40, 300)       \n",
    "    solids = random.uniform(300, 50000)          \n",
    "    chloramines = random.uniform(0, 14)  \n",
    "    sulfate = random.uniform(100, 500)          \n",
    "    conductivity = random.uniform(180, 1000)\n",
    "    organic_carbon = random.uniform(2, 30)       \n",
    "    trihalomethanes = random.uniform(0, 140)    \n",
    "    turbidity = random.uniform(1, 7)\n",
    "    \n",
    "    tmp = random.choice(link_sys_user_sys_group)\n",
    "    sys_user_ref = int(tmp['sys_user_ref'])\n",
    "    sys_group_ref = int(tmp['sys_group_ref'])\n",
    "    reservoir_ref = random.choice(reservoir_ids)\n",
    "    \n",
    "    measurement.append(\n",
    "        {\n",
    "            'lon': lon,\n",
    "            'lat': lat,\n",
    "            'date': date,\n",
    "            'ph': ph,                \n",
    "            'hardness': hardness,          \n",
    "            'solids': solids,             \n",
    "            'chloramines': chloramines,        \n",
    "            'sulfate': sulfate,             \n",
    "            'conductivity': conductivity,         \n",
    "            'organic_carbon': organic_carbon,        \n",
    "            'trihalomethanes': trihalomethanes,      \n",
    "            'turbidity': turbidity,\n",
    "            'sys_user_ref': sys_user_ref,\n",
    "            'sys_group_ref': sys_group_ref,\n",
    "            'reservoir_ref': reservoir_ref,\n",
    "        }\n",
    "    )\n"
   ]
  },
  {
   "cell_type": "code",
   "execution_count": 24,
   "metadata": {},
   "outputs": [],
   "source": [
    "try:        \n",
    "    for m in measurement:\n",
    "        cur.execute('''\n",
    "        INSERT INTO measurement\n",
    "        (lon,lat,date,\n",
    "        sys_user_ref,sys_group_ref,reservoir_ref,\n",
    "        ph,hardness,solids,chloramines,sulfate,conductivity,\n",
    "        organic_carbon,trihalomethanes,turbidity) \n",
    "        VALUES (%s, %s, %s, %s, %s, %s, %s, %s, %s,%s, %s, %s, %s, %s, %s)''',\n",
    "        (m['lon'],m['lat'],m['date'],\n",
    "        m['sys_user_ref'],m['sys_group_ref'],m['reservoir_ref'],\n",
    "        m['ph'],m['hardness'],m['solids'],m['chloramines'],m['sulfate'],m['conductivity'],\n",
    "        m['organic_carbon'],m['trihalomethanes'],m['turbidity']))\n",
    "        \n",
    "except (Exception, Error) as error:\n",
    "    print(error)"
   ]
  },
  {
   "cell_type": "code",
   "execution_count": 25,
   "metadata": {},
   "outputs": [],
   "source": [
    "del link_sys_user_sys_group\n",
    "del measurement"
   ]
  },
  {
   "cell_type": "code",
   "execution_count": 27,
   "metadata": {},
   "outputs": [],
   "source": [
    "cur.close()\n",
    "connection.close()"
   ]
  },
  {
   "cell_type": "code",
   "execution_count": null,
   "metadata": {},
   "outputs": [],
   "source": []
  }
 ],
 "metadata": {
  "kernelspec": {
   "display_name": "Python 3 (ipykernel)",
   "language": "python",
   "name": "python3"
  },
  "language_info": {
   "codemirror_mode": {
    "name": "ipython",
    "version": 3
   },
   "file_extension": ".py",
   "mimetype": "text/x-python",
   "name": "python",
   "nbconvert_exporter": "python",
   "pygments_lexer": "ipython3",
   "version": "3.9.12"
  }
 },
 "nbformat": 4,
 "nbformat_minor": 2
}
